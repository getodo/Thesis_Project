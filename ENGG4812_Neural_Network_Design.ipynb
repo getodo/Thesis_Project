{
  "cells": [
    {
      "cell_type": "markdown",
      "metadata": {
        "id": "view-in-github",
        "colab_type": "text"
      },
      "source": [
        "<a href=\"https://colab.research.google.com/github/getodo/Thesis_Project/blob/master/ENGG4812_Neural_Network_Design.ipynb\" target=\"_parent\"><img src=\"https://colab.research.google.com/assets/colab-badge.svg\" alt=\"Open In Colab\"/></a>"
      ]
    },
    {
      "cell_type": "code",
      "execution_count": null,
      "metadata": {
        "id": "bHPSyZ146ldf"
      },
      "outputs": [],
      "source": [
        "from __future__ import absolute_import, division, print_function, unicode_literals\n",
        "\n",
        "import numpy as np\n",
        "import pandas as pd\n",
        "import matplotlib\n",
        "import matplotlib.pyplot as plt\n",
        "import os\n",
        "\n",
        "import tensorflow as tf\n",
        "from tensorflow.keras import layers\n",
        "\n",
        "from sklearn.preprocessing import LabelEncoder\n",
        "from sklearn.model_selection import train_test_split\n",
        "from sklearn.metrics import confusion_matrix\n",
        "import scipy\n",
        "from scipy import stats\n",
        "import seaborn as sns\n",
        "#import sklearn.metrics as metrics\n",
        "\n",
        "from torchvision import datasets, models, transforms\n",
        "from google.colab import files"
      ]
    },
    {
      "cell_type": "code",
      "execution_count": null,
      "metadata": {
        "colab": {
          "base_uri": "https://localhost:8080/",
          "height": 74,
          "resources": {
            "http://localhost:8080/nbextensions/google.colab/files.js": {
              "data": "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",
              "headers": [
                [
                  "content-type",
                  "application/javascript"
                ]
              ],
              "ok": true,
              "status": 200,
              "status_text": ""
            }
          }
        },
        "id": "8uxs_6e96nXu",
        "outputId": "e58d271e-af62-4828-ebe0-ac95d724eefc"
      },
      "outputs": [
        {
          "output_type": "display_data",
          "data": {
            "text/plain": [
              "<IPython.core.display.HTML object>"
            ],
            "text/html": [
              "\n",
              "     <input type=\"file\" id=\"files-61e2bbc3-fb0c-4cb8-9fc2-a5a96a93f5d3\" name=\"files[]\" multiple disabled\n",
              "        style=\"border:none\" />\n",
              "     <output id=\"result-61e2bbc3-fb0c-4cb8-9fc2-a5a96a93f5d3\">\n",
              "      Upload widget is only available when the cell has been executed in the\n",
              "      current browser session. Please rerun this cell to enable.\n",
              "      </output>\n",
              "      <script src=\"/nbextensions/google.colab/files.js\"></script> "
            ]
          },
          "metadata": {}
        },
        {
          "output_type": "stream",
          "name": "stdout",
          "text": [
            "Saving hip_training_data.csv to hip_training_data.csv\n"
          ]
        }
      ],
      "source": [
        "uploaded = files.upload()"
      ]
    },
    {
      "cell_type": "code",
      "execution_count": null,
      "metadata": {
        "id": "m7b8_7jQ6sk3"
      },
      "outputs": [],
      "source": [
        "class_names = ['0','1','2','3','4','5','6','7','8']\n",
        "df_train = pd.read_csv('/content/arm_training_data.csv')\n",
        "features = ['X', 'Y', 'Z']\n",
        "label = ['Activity']"
      ]
    },
    {
      "cell_type": "code",
      "execution_count": null,
      "metadata": {
        "id": "1eVlzWLo7wbd"
      },
      "outputs": [],
      "source": [
        "def setup_lstm_data(df_train, count):\n",
        "  time_step = 64\n",
        "  step = 32\n",
        "  features = 3\n",
        "  window = []\n",
        "  labels = []\n",
        "  for x in range(9 - count):\n",
        "    df_train = df_train[df_train.Activity != 9 - x]\n",
        "  for i in range(0, df_train.shape[0] - time_step, step):\n",
        "    xs = df_train['X'].values[i: i + time_step]\n",
        "    ys = df_train['Y'].values[i: i + time_step]\n",
        "    zs = df_train['Z'].values[i: i + time_step]\n",
        "    label = stats.mode(df_train['Activity'][i: i + time_step])[0][0]\n",
        "    window.append([xs, ys, zs])\n",
        "    labels.append(label)\n",
        "  windows = np.asarray(window, dtype= np.float32).reshape(-1, time_step, features)\n",
        "  labels = np.asarray(pd.get_dummies(labels), dtype = np.float32)\n",
        "  X_train, X_test, y_train, y_test = train_test_split(windows, labels, test_size = 0.2)\n",
        "  return X_train, X_test, y_train, y_test"
      ]
    },
    {
      "cell_type": "code",
      "execution_count": null,
      "metadata": {
        "id": "Kz4qnkz-gFbS"
      },
      "outputs": [],
      "source": [
        "def setup_dense_data(df_train, count):\n",
        "  for x in range(9 - count):\n",
        "    df_train = df_train[df_train.Activity != 8 - x]\n",
        "  features = pd.DataFrame(df_train, columns = ['X', 'Y', 'Z'])\n",
        "  label = pd.DataFrame(df_train, columns = ['Activity'])\n",
        "  features = features.to_numpy()\n",
        "  label = label.to_numpy()\n",
        "  X_train, X_test, y_train, y_test = train_test_split(features, label, test_size = 0.2)\n",
        "  return X_train, X_test, y_train, y_test"
      ]
    },
    {
      "cell_type": "code",
      "execution_count": null,
      "metadata": {
        "id": "qSTzzH6pkONz"
      },
      "outputs": [],
      "source": [
        "def setup_dense_model(neu, out):\n",
        "  model = tf.keras.Sequential([\n",
        "    tf.keras.layers.Dense(neu, activation=tf.nn.relu, input_shape=(3,)),\n",
        "    tf.keras.layers.Dense(neu, activation=tf.nn.relu),\n",
        "    tf.keras.layers.Dense(neu, activation=tf.nn.relu),\n",
        "    tf.keras.layers.Dense(neu, activation=tf.nn.relu),\n",
        "    tf.keras.layers.Dense(neu, activation=tf.nn.relu),\n",
        "    tf.keras.layers.Dense(neu, activation=tf.nn.relu),\n",
        "    tf.keras.layers.Dense(out, activation=tf.nn.softmax),\n",
        "  ])\n",
        "  model.compile(loss='sparse_categorical_crossentropy', optimizer='adam', metrics=['accuracy'])\n",
        "  return model"
      ]
    },
    {
      "cell_type": "code",
      "execution_count": null,
      "metadata": {
        "id": "WO1hbHes_K8k"
      },
      "outputs": [],
      "source": [
        "def setup_lstm_model(out):\n",
        "  model = tf.keras.Sequential([\n",
        "    tf.keras.layers.Bidirectional(\n",
        "    tf.keras.layers.LSTM(40),\n",
        "    input_shape=(64, 3)),\n",
        "    tf.keras.layers.Flatten(), \n",
        "    tf.keras.layers.Dense(out, activation = \"softmax\") \n",
        "  ])\n",
        "  model.compile(loss='categorical_crossentropy', optimizer='adam', metrics=['accuracy'])\n",
        "  return model"
      ]
    },
    {
      "cell_type": "code",
      "source": [
        "def train_dense_model(neu, out):\n",
        "  model = setup_dense_model(neu, out)\n",
        "  X_train, X_test, y_train, y_test = setup_dense_data(df_train, out)\n",
        "  model.fit(X_train, y_train, epochs = 10)\n",
        "  return model, X_train, X_test, y_train, y_test"
      ],
      "metadata": {
        "id": "RULa4KiHqR3W"
      },
      "execution_count": null,
      "outputs": []
    },
    {
      "cell_type": "code",
      "source": [
        "def train_lstm_model(out):\n",
        "  model = setup_lstm_model(out)\n",
        "  X_train, X_test, y_train, y_test = setup_lstm_data(df_train, out)\n",
        "  model.fit(X_train, y_train, epochs = 25)\n",
        "  return model, X_train, X_test, y_train, y_test"
      ],
      "metadata": {
        "id": "Te_63P88448R"
      },
      "execution_count": null,
      "outputs": []
    },
    {
      "cell_type": "code",
      "execution_count": null,
      "metadata": {
        "id": "56dRYWOm-Gjd",
        "colab": {
          "base_uri": "https://localhost:8080/"
        },
        "outputId": "247d5de4-ec7f-459c-defb-1a1bfd340cc8"
      },
      "outputs": [
        {
          "output_type": "stream",
          "name": "stdout",
          "text": [
            "Epoch 1/10\n",
            "1831/1831 [==============================] - 6s 3ms/step - loss: 0.9642 - accuracy: 0.6435\n",
            "Epoch 2/10\n",
            "1831/1831 [==============================] - 3s 2ms/step - loss: 0.6839 - accuracy: 0.7586\n",
            "Epoch 3/10\n",
            "1831/1831 [==============================] - 3s 2ms/step - loss: 0.5771 - accuracy: 0.8053\n",
            "Epoch 4/10\n",
            "1831/1831 [==============================] - 3s 2ms/step - loss: 0.5327 - accuracy: 0.8213\n",
            "Epoch 5/10\n",
            "1831/1831 [==============================] - 3s 2ms/step - loss: 0.5028 - accuracy: 0.8319\n",
            "Epoch 6/10\n",
            "1831/1831 [==============================] - 4s 2ms/step - loss: 0.4866 - accuracy: 0.8351\n",
            "Epoch 7/10\n",
            "1831/1831 [==============================] - 4s 2ms/step - loss: 0.4735 - accuracy: 0.8403\n",
            "Epoch 8/10\n",
            "1831/1831 [==============================] - 3s 2ms/step - loss: 0.4641 - accuracy: 0.8427\n",
            "Epoch 9/10\n",
            "1831/1831 [==============================] - 4s 2ms/step - loss: 0.4594 - accuracy: 0.8433\n",
            "Epoch 10/10\n",
            "1831/1831 [==============================] - 3s 2ms/step - loss: 0.4541 - accuracy: 0.8454\n",
            "INFO:tensorflow:Assets written to: ./saved_model/assets\n"
          ]
        },
        {
          "output_type": "stream",
          "name": "stderr",
          "text": [
            "INFO:tensorflow:Assets written to: ./saved_model/assets\n"
          ]
        },
        {
          "output_type": "stream",
          "name": "stdout",
          "text": [
            "458/458 [==============================] - 1s 1ms/step - loss: 0.4847 - accuracy: 0.8370\n"
          ]
        }
      ],
      "source": [
        "# train model x neurons up to 9 activities\n",
        "activity_count = 9\n",
        "model, X_train, X_test, y_train, y_test = train_dense_model(40, activity_count)\n",
        "temp_class = class_names[0:activity_count]\n",
        "\n",
        "export_dir = './saved_model'\n",
        "tf.saved_model.save(model, export_dir=export_dir)\n",
        "results = model.evaluate(X_test, y_test)"
      ]
    },
    {
      "cell_type": "code",
      "source": [
        "# train model up to 9 activities\n",
        "model, X_train, X_test, y_train, y_test = train_lstm_model(9)\n",
        "temp_class = class_names[0:9]\n",
        "\n",
        "export_dir = './saved_model'\n",
        "tf.saved_model.save(model, export_dir=export_dir)"
      ],
      "metadata": {
        "id": "I7dNkMsV5Gld"
      },
      "execution_count": null,
      "outputs": []
    },
    {
      "cell_type": "code",
      "source": [
        "results = model.evaluate(X_test, y_test)"
      ],
      "metadata": {
        "colab": {
          "base_uri": "https://localhost:8080/"
        },
        "id": "As2YPPJ0_2Xv",
        "outputId": "fb2a1dce-716e-4ffa-ef09-a713d38f350a"
      },
      "execution_count": null,
      "outputs": [
        {
          "output_type": "stream",
          "name": "stdout",
          "text": [
            "458/458 [==============================] - 1s 1ms/step - loss: 0.4549 - accuracy: 0.8485\n"
          ]
        }
      ]
    },
    {
      "cell_type": "code",
      "source": [
        "y_pred = model.predict(X_test)\n",
        "df_y_pred = pd.DataFrame(y_pred)"
      ],
      "metadata": {
        "id": "o9rRf1gxHxl4"
      },
      "execution_count": null,
      "outputs": []
    },
    {
      "cell_type": "code",
      "source": [
        "max_index = df_y_pred.idxmax(axis=1)\n",
        "list_max_index = max_index.values.tolist()\n",
        "list_max_index"
      ],
      "metadata": {
        "id": "8y9G5jhKJHj2"
      },
      "execution_count": null,
      "outputs": []
    },
    {
      "cell_type": "code",
      "source": [
        "cf_matrix = confusion_matrix(y_test, list_max_index)"
      ],
      "metadata": {
        "id": "GBnbo4dLHiSr"
      },
      "execution_count": null,
      "outputs": []
    },
    {
      "cell_type": "code",
      "source": [
        "matrix = confusion_matrix(y_test, list_max_index, labels=[0, 1, 2, 3, 4, 6, 7, 8, 9])\n",
        "print('Confusion matrix : \\n',matrix)"
      ],
      "metadata": {
        "id": "claLJ3A9HEBo"
      },
      "execution_count": null,
      "outputs": []
    },
    {
      "cell_type": "code",
      "source": [
        "labels = ['Sit', 'Sit Cross-Legged', 'Stand', 'Prone', 'Walking', 'Running', 'Star jump', 'Push up', 'Plank']\n",
        "plt.figure(figsize = (15,8))\n",
        "sns.set(font_scale=1.2)\n",
        "ax = sns.heatmap(cf_matrix, xticklabels=labels, yticklabels=labels, cmap='Blues', fmt='', annot=True)\n",
        "ax.set_title('Activity Tracker Confusion Matrix Hip Model\\n', fontsize=18);\n",
        "ax.set_xlabel('\\nPredicted Values', fontsize=18)\n",
        "ax.set_ylabel('Actual Values', fontsize=18);"
      ],
      "metadata": {
        "id": "uW3UCs8EGVyB"
      },
      "execution_count": null,
      "outputs": []
    },
    {
      "cell_type": "code",
      "source": [
        "y_pred = []\n",
        "temp_pred = model.predict(X_test)\n",
        "for x in range(len(y_test)):\n",
        "  i = np.argmax(temp_pred[x])\n",
        "  y_pred.append(i)"
      ],
      "metadata": {
        "id": "_MHPlbksOw2i"
      },
      "execution_count": null,
      "outputs": []
    },
    {
      "cell_type": "code",
      "source": [
        "print(y_pred)"
      ],
      "metadata": {
        "colab": {
          "base_uri": "https://localhost:8080/"
        },
        "id": "gz4WaGoBO6IU",
        "outputId": "6f287f35-f311-49a6-8298-c8c5cff3c0d5"
      },
      "execution_count": null,
      "outputs": [
        {
          "output_type": "stream",
          "name": "stdout",
          "text": [
            "[0, 0, 5, 0, 4, 3, 3, 0, 3, 1, 4, 2, 0, 4, 1, 7, 8, 1, 8, 8, 4, 1, 5, 4, 5, 4, 2, 2, 3, 4, 1, 3, 8, 4, 3, 0, 4, 3, 7, 8, 8, 5, 6, 2, 4, 5, 3, 1, 1, 3, 6, 2, 0, 0, 5, 4, 0, 3, 1, 0, 3, 7, 8, 8, 3, 3, 1, 8, 8, 5, 0, 5, 4, 3, 0, 2, 3, 0, 1, 5, 1, 2, 5, 0, 8, 6, 0, 1, 5, 4, 1, 1, 1, 3, 2, 5, 1, 0, 4, 8, 6, 6, 4, 5, 3, 3, 8, 0, 0, 5, 1, 5, 0, 2, 3, 2, 0, 6, 8, 8, 3, 0, 4, 4, 4, 2, 0, 3, 0, 5, 8, 8, 8, 3, 4, 8, 8, 2, 4, 4, 3, 4, 5, 0, 5, 4, 1, 3, 3, 0, 4, 8, 4, 8, 1, 5, 1, 3, 2, 3, 5, 1, 8, 2, 1, 6, 5, 0, 3, 4, 8, 8, 2, 2, 0, 5, 8, 0, 4, 0, 1, 6, 2, 6, 0, 5, 1, 4, 4, 2, 4, 5, 8, 1, 0, 5, 2, 2, 1, 4, 0, 3, 2, 8, 4, 5, 4, 5, 6, 2, 1, 4, 3, 4, 0, 1, 2, 2, 8, 5, 3, 6, 4, 1, 4, 5, 4, 3, 6, 7, 0, 4, 3, 8, 4, 5, 4, 4, 4, 0, 7, 1, 1, 3, 0, 7, 1, 3, 0, 2, 2, 6, 0, 7, 4, 3, 6, 8, 0, 1, 1, 1, 5, 2, 2, 2, 4, 8, 8, 8, 4, 0, 1, 3, 0, 5, 0, 8, 2, 8, 0, 6, 2, 5, 1, 4, 4, 3, 0, 5, 8, 2, 1, 4, 2, 1, 5, 2, 1, 2, 2, 5, 8, 4, 0, 5, 8, 1, 0, 4, 5, 1, 0, 8, 2, 4, 3, 1, 8, 8, 1, 4, 3, 8, 6, 6, 0, 0, 7, 0, 4, 5, 5, 8, 2, 1, 8, 7, 4, 2, 5, 8, 3, 0, 3, 8, 2, 3, 4, 8, 5, 8, 8, 3, 0, 8, 0, 4, 8, 5, 5, 4, 5, 3, 8, 8, 4, 0, 0, 1, 5, 8, 3, 8, 0, 4, 3, 1, 3, 6, 3, 2, 8, 8, 8, 8, 5, 1, 3, 0, 2, 8, 5, 0, 0, 3, 2, 3, 3, 4, 2, 3, 8, 4, 8, 8, 0, 4, 3, 2, 3, 0, 8, 3, 1, 2, 2, 3, 8, 8, 4, 1, 2, 3, 3, 2, 0, 0, 1, 1, 1, 1, 0, 4, 8, 6, 4, 1, 5, 0, 5, 3, 2, 0, 4, 1, 0, 5, 8, 3, 1, 5, 5, 2, 0, 5, 5, 0]\n"
          ]
        }
      ]
    },
    {
      "cell_type": "code",
      "source": [
        "cf_matrix = confusion_matrix(y_test, y_pred)\n",
        "labels = ['Sit', 'SitCross', 'Stand,', 'Prone', 'Walk', 'Run', 'Starjump', 'Pushup', 'Plank']\n",
        "plt.figure(figsize = (15,8))\n",
        "ax = sns.heatmap(cf_matrix/np.sum(cf_matrix), xticklabels=labels, yticklabels=labels, cmap='Blues', fmt='.2%', annot=True)\n",
        "ax.set_title('Activity Tracker Confusion Matrix Arm Model\\n');\n",
        "ax.set_xlabel('\\nPredicted Values')\n",
        "ax.set_ylabel('Actual Values ');\n"
      ],
      "metadata": {
        "id": "CQ1N4BxOM5U8"
      },
      "execution_count": null,
      "outputs": []
    },
    {
      "cell_type": "code",
      "execution_count": null,
      "metadata": {
        "colab": {
          "base_uri": "https://localhost:8080/"
        },
        "id": "dXnid02osgvq",
        "outputId": "55bc52e9-10d9-4191-ee5e-19ed1db3b758"
      },
      "outputs": [
        {
          "output_type": "stream",
          "name": "stdout",
          "text": [
            "INFO:tensorflow:Assets written to: /tmp/tmp3vf0p31p/assets\n"
          ]
        },
        {
          "output_type": "stream",
          "name": "stderr",
          "text": [
            "INFO:tensorflow:Assets written to: /tmp/tmp3vf0p31p/assets\n",
            "WARNING:absl:Buffer deduplication procedure will be skipped when flatbuffer library is not properly loaded\n"
          ]
        },
        {
          "output_type": "stream",
          "name": "stdout",
          "text": [
            "Basic model is 38288 bytes\n"
          ]
        }
      ],
      "source": [
        "converter = tf.lite.TFLiteConverter.from_keras_model(model)\n",
        "converter.target_spec.supported_ops = [\n",
        "  tf.lite.OpsSet.TFLITE_BUILTINS, # enable TensorFlow Lite ops.\n",
        "  tf.lite.OpsSet.SELECT_TF_OPS # enable TensorFlow ops.\n",
        "]\n",
        "# uncomment to quantise model (doesnt impact accuracy at the moment)\n",
        "#converter.optimizations = [tf.lite.Optimize.DEFAULT]\n",
        "\n",
        "tflite_model = converter.convert()\n",
        "# Save the model to disk\n",
        "open(\"model.tflite\", \"wb\").write(tflite_model)\n",
        "\n",
        "tf_model_size = os.path.getsize(\"model.tflite\")\n",
        "print(\"Basic model is %d bytes\" % tf_model_size)"
      ]
    },
    {
      "cell_type": "code",
      "source": [
        "tflite_interpreter = tf.lite.Interpreter(\"/content/model.tflite\")\n",
        "\n",
        "input_details = tflite_interpreter.get_input_details()\n",
        "output_details = tflite_interpreter.get_output_details()\n",
        "\n",
        "print(\"== Input details ==\")\n",
        "print(\"name:\", input_details[0]['name'])\n",
        "print(\"shape:\", input_details[0]['shape'])\n",
        "print(\"type:\", input_details[0]['dtype'])\n",
        "\n",
        "print(\"\\n== Output details ==\")\n",
        "print(\"name:\", output_details[0]['name'])\n",
        "print(\"shape:\", output_details[0]['shape'])\n",
        "print(\"type:\", output_details[0]['dtype'])\n",
        "\n",
        "\n",
        "tflite_interpreter.resize_tensor_input(input_details[0]['index'], (len(X_test)   , 3))\n",
        "tflite_interpreter.resize_tensor_input(output_details[0]['index'], (len(y_test)   , 4))\n",
        "tflite_interpreter.allocate_tensors()\n",
        "\n",
        "input_details = tflite_interpreter.get_input_details()\n",
        "output_details = tflite_interpreter.get_output_details()\n",
        "\n",
        "df_X_test = X_test.astype('float32')\n",
        "\n",
        "print(\"== Input details ==\")\n",
        "print(\"name:\", input_details[0]['name'])\n",
        "print(\"shape:\", input_details[0]['shape'])\n",
        "print(\"type:\", input_details[0]['dtype'])\n",
        "\n",
        "print(\"\\n== Output details ==\")\n",
        "print(\"name:\", output_details[0]['name'])\n",
        "print(\"shape:\", output_details[0]['shape'])\n",
        "print(\"type:\", output_details[0]['dtype'])"
      ],
      "metadata": {
        "id": "ElbuMSUqkpaE"
      },
      "execution_count": null,
      "outputs": []
    },
    {
      "cell_type": "code",
      "source": [
        "tflite_interpreter.set_tensor(input_details[0]['index'], df_X_test)\n",
        "\n",
        "tflite_interpreter.invoke()\n",
        "\n",
        "tflite_model_predictions = tflite_interpreter.get_tensor(output_details[0]['index'])\n",
        "print(\"Prediction results shape:\", tflite_model_predictions.shape)\n",
        "\n",
        "tflite_pred_dataframe = pd.DataFrame(tflite_model_predictions)\n",
        "tflite_pred_dataframe.columns = temp_class\n"
      ],
      "metadata": {
        "id": "kCLATUbElA5Y"
      },
      "execution_count": null,
      "outputs": []
    },
    {
      "cell_type": "code",
      "source": [
        "df_max_index = tflite_pred_dataframe.idxmax(axis=1)\n",
        "list_max_index = df_max_index.values.tolist()\n",
        "\n",
        "for i in range(0, len(list_max_index)):\n",
        "  list_max_index[i] = int(list_max_index[i])\n",
        "\n",
        "false = 0\n",
        "\n",
        "for i in range(len(y_test)):\n",
        "  if (y_test[i] != list_max_index[i]):\n",
        "    false += 1\n",
        "\n",
        "print((len(y_test) - false)/len(y_test))"
      ],
      "metadata": {
        "id": "wVbYyc4NlfUU"
      },
      "execution_count": null,
      "outputs": []
    },
    {
      "cell_type": "code",
      "source": [
        "# convert tensorflow lite model to hex array to be flashed to controller\n",
        "def hex_to_c_array(hex_data, var_name):\n",
        "  c_str = ''\n",
        "\n",
        "  c_str += '#ifndef ' + var_name.upper() + '_H\\n'\n",
        "  c_str += '#define ' + var_name.lower() + '_H\\n\\n'\n",
        "\n",
        "  c_str += '\\nunsigned int ' + var_name + '_len = ' + str(len(hex_data)) + ';\\n'\n",
        "\n",
        "  c_str += 'unsigned char ' + var_name + '[] = {'\n",
        "  hex_array = []\n",
        "\n",
        "  for i, val in enumerate(hex_data) :\n",
        "    \n",
        "    hex_str = format(val, '#04x')\n",
        "\n",
        "    if (i + 1) < len(hex_data):\n",
        "      hex_str += ','\n",
        "    if (i + 1) % 12 == 0:\n",
        "      hex_str += '\\n '\n",
        "    hex_array.append(hex_str)\n",
        "\n",
        "  c_str += '\\n ' + format(' '.join(hex_array)) + '\\n};\\n\\n'\n",
        "  c_str += '#endif //' + var_name.upper() + '_H'\n",
        "\n",
        "  return c_str"
      ],
      "metadata": {
        "id": "64FJiG-hYp1r"
      },
      "execution_count": null,
      "outputs": []
    },
    {
      "cell_type": "code",
      "source": [
        "# write TFLite model to a C source file\n",
        "c_model_name = 'arm_lite_model'\n",
        "with open(c_model_name + '.h', 'w') as file:\n",
        "  file.write(hex_to_c_array(tflite_model, c_model_name))"
      ],
      "metadata": {
        "id": "J06HYr8KYtyf"
      },
      "execution_count": null,
      "outputs": []
    }
  ],
  "metadata": {
    "colab": {
      "collapsed_sections": [],
      "name": "ENGG4812_Neural_Network_Design.ipynb",
      "provenance": [],
      "authorship_tag": "ABX9TyO8E9EcrKimTHG6cyfZY+77",
      "include_colab_link": true
    },
    "kernelspec": {
      "display_name": "Python 3",
      "name": "python3"
    },
    "language_info": {
      "name": "python"
    }
  },
  "nbformat": 4,
  "nbformat_minor": 0
}